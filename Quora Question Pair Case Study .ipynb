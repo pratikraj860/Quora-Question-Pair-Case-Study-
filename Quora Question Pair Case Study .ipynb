{
 "cells": [
  {
   "cell_type": "markdown",
   "id": "17b40fde",
   "metadata": {},
   "source": [
    "## Undestanding the problem"
   ]
  },
  {
   "cell_type": "markdown",
   "id": "34dfb339",
   "metadata": {},
   "source": [
    "Quora is a question answer platform with over 100 million visits per month, so its no surprise that there will be repeated questions with different wordings, if we dont remove this duplicacy writers may feel like they are answering to the same question multiple times.\n",
    "so we need to solve this NLP problem to improve both reader and writer experience "
   ]
  },
  {
   "cell_type": "markdown",
   "id": "b46702fe",
   "metadata": {},
   "source": [
    "## Objectives"
   ]
  },
  {
   "cell_type": "markdown",
   "id": "1ead2e1c",
   "metadata": {},
   "source": [
    "1. The cost of a mis-classification can be very high.\n",
    "2. You would want a probability of a pair of questions to be duplicates so that you can choose any threshold of choice.\n",
    "3. No strict latency concerns.\n",
    "4. Interpretability is partially important."
   ]
  },
  {
   "cell_type": "markdown",
   "id": "6e7ab116",
   "metadata": {},
   "source": [
    "## Performance Metric"
   ]
  },
  {
   "cell_type": "markdown",
   "id": "68d4ea0c",
   "metadata": {},
   "source": [
    "1.log loss is the KPI because we are calculating the probabilities.\n",
    "\n",
    "2.Confusion Matrix"
   ]
  },
  {
   "cell_type": "markdown",
   "id": "72826712",
   "metadata": {},
   "source": [
    "## EDA"
   ]
  },
  {
   "cell_type": "code",
   "execution_count": 102,
   "id": "d6dcc11d",
   "metadata": {},
   "outputs": [],
   "source": [
    "import pandas as pd\n",
    "import numpy as np\n",
    "import matplotlib.pyplot as plt\n",
    "import seaborn as sns"
   ]
  },
  {
   "cell_type": "code",
   "execution_count": 103,
   "id": "0c2573b0",
   "metadata": {},
   "outputs": [
    {
     "data": {
      "text/plain": [
       "(404351, 6)"
      ]
     },
     "execution_count": 103,
     "metadata": {},
     "output_type": "execute_result"
    }
   ],
   "source": [
    "df=pd.read_csv(\"C:\\\\Users\\kvsan\\\\Desktop\\\\Ml projects\\\\Quora Question Pair\\\\questions.csv\")\n",
    "df.shape"
   ]
  },
  {
   "cell_type": "code",
   "execution_count": 104,
   "id": "89617a7c",
   "metadata": {},
   "outputs": [
    {
     "data": {
      "text/plain": [
       "(404351, 6)"
      ]
     },
     "execution_count": 104,
     "metadata": {},
     "output_type": "execute_result"
    }
   ],
   "source": [
    "df1=df.copy()\n",
    "df1.shape ## cutting down due to computational issues"
   ]
  },
  {
   "cell_type": "code",
   "execution_count": 105,
   "id": "100a593b",
   "metadata": {},
   "outputs": [
    {
     "name": "stdout",
     "output_type": "stream",
     "text": [
      "<class 'pandas.core.frame.DataFrame'>\n",
      "RangeIndex: 404351 entries, 0 to 404350\n",
      "Data columns (total 6 columns):\n",
      " #   Column        Non-Null Count   Dtype \n",
      "---  ------        --------------   ----- \n",
      " 0   id            404351 non-null  int64 \n",
      " 1   qid1          404351 non-null  int64 \n",
      " 2   qid2          404351 non-null  int64 \n",
      " 3   question1     404350 non-null  object\n",
      " 4   question2     404349 non-null  object\n",
      " 5   is_duplicate  404351 non-null  int64 \n",
      "dtypes: int64(4), object(2)\n",
      "memory usage: 18.5+ MB\n"
     ]
    }
   ],
   "source": [
    "df1.info() ## no nulls"
   ]
  },
  {
   "cell_type": "code",
   "execution_count": 106,
   "id": "06dd8812",
   "metadata": {},
   "outputs": [
    {
     "data": {
      "text/html": [
       "<div>\n",
       "<style scoped>\n",
       "    .dataframe tbody tr th:only-of-type {\n",
       "        vertical-align: middle;\n",
       "    }\n",
       "\n",
       "    .dataframe tbody tr th {\n",
       "        vertical-align: top;\n",
       "    }\n",
       "\n",
       "    .dataframe thead th {\n",
       "        text-align: right;\n",
       "    }\n",
       "</style>\n",
       "<table border=\"1\" class=\"dataframe\">\n",
       "  <thead>\n",
       "    <tr style=\"text-align: right;\">\n",
       "      <th></th>\n",
       "      <th>id</th>\n",
       "      <th>qid1</th>\n",
       "      <th>qid2</th>\n",
       "      <th>question1</th>\n",
       "      <th>question2</th>\n",
       "      <th>is_duplicate</th>\n",
       "    </tr>\n",
       "  </thead>\n",
       "  <tbody>\n",
       "    <tr>\n",
       "      <th>0</th>\n",
       "      <td>0</td>\n",
       "      <td>1</td>\n",
       "      <td>2</td>\n",
       "      <td>What is the step by step guide to invest in sh...</td>\n",
       "      <td>What is the step by step guide to invest in sh...</td>\n",
       "      <td>0</td>\n",
       "    </tr>\n",
       "    <tr>\n",
       "      <th>1</th>\n",
       "      <td>1</td>\n",
       "      <td>3</td>\n",
       "      <td>4</td>\n",
       "      <td>What is the story of Kohinoor (Koh-i-Noor) Dia...</td>\n",
       "      <td>What would happen if the Indian government sto...</td>\n",
       "      <td>0</td>\n",
       "    </tr>\n",
       "    <tr>\n",
       "      <th>2</th>\n",
       "      <td>2</td>\n",
       "      <td>5</td>\n",
       "      <td>6</td>\n",
       "      <td>How can I increase the speed of my internet co...</td>\n",
       "      <td>How can Internet speed be increased by hacking...</td>\n",
       "      <td>0</td>\n",
       "    </tr>\n",
       "    <tr>\n",
       "      <th>3</th>\n",
       "      <td>3</td>\n",
       "      <td>7</td>\n",
       "      <td>8</td>\n",
       "      <td>Why am I mentally very lonely? How can I solve...</td>\n",
       "      <td>Find the remainder when [math]23^{24}[/math] i...</td>\n",
       "      <td>0</td>\n",
       "    </tr>\n",
       "    <tr>\n",
       "      <th>4</th>\n",
       "      <td>4</td>\n",
       "      <td>9</td>\n",
       "      <td>10</td>\n",
       "      <td>Which one dissolve in water quikly sugar, salt...</td>\n",
       "      <td>Which fish would survive in salt water?</td>\n",
       "      <td>0</td>\n",
       "    </tr>\n",
       "  </tbody>\n",
       "</table>\n",
       "</div>"
      ],
      "text/plain": [
       "   id  qid1  qid2                                          question1  \\\n",
       "0   0     1     2  What is the step by step guide to invest in sh...   \n",
       "1   1     3     4  What is the story of Kohinoor (Koh-i-Noor) Dia...   \n",
       "2   2     5     6  How can I increase the speed of my internet co...   \n",
       "3   3     7     8  Why am I mentally very lonely? How can I solve...   \n",
       "4   4     9    10  Which one dissolve in water quikly sugar, salt...   \n",
       "\n",
       "                                           question2  is_duplicate  \n",
       "0  What is the step by step guide to invest in sh...             0  \n",
       "1  What would happen if the Indian government sto...             0  \n",
       "2  How can Internet speed be increased by hacking...             0  \n",
       "3  Find the remainder when [math]23^{24}[/math] i...             0  \n",
       "4            Which fish would survive in salt water?             0  "
      ]
     },
     "execution_count": 106,
     "metadata": {},
     "output_type": "execute_result"
    }
   ],
   "source": [
    "df1.head()"
   ]
  },
  {
   "cell_type": "code",
   "execution_count": 107,
   "id": "ee20bcfa",
   "metadata": {},
   "outputs": [
    {
     "data": {
      "text/html": [
       "<div>\n",
       "<style scoped>\n",
       "    .dataframe tbody tr th:only-of-type {\n",
       "        vertical-align: middle;\n",
       "    }\n",
       "\n",
       "    .dataframe tbody tr th {\n",
       "        vertical-align: top;\n",
       "    }\n",
       "\n",
       "    .dataframe thead th {\n",
       "        text-align: right;\n",
       "    }\n",
       "</style>\n",
       "<table border=\"1\" class=\"dataframe\">\n",
       "  <thead>\n",
       "    <tr style=\"text-align: right;\">\n",
       "      <th></th>\n",
       "      <th>id</th>\n",
       "      <th>qid1</th>\n",
       "      <th>qid2</th>\n",
       "      <th>is_duplicate</th>\n",
       "    </tr>\n",
       "  </thead>\n",
       "  <tbody>\n",
       "    <tr>\n",
       "      <th>count</th>\n",
       "      <td>404351.000000</td>\n",
       "      <td>404351.000000</td>\n",
       "      <td>404351.000000</td>\n",
       "      <td>404351.000000</td>\n",
       "    </tr>\n",
       "    <tr>\n",
       "      <th>mean</th>\n",
       "      <td>202175.000000</td>\n",
       "      <td>391840.987691</td>\n",
       "      <td>390195.973765</td>\n",
       "      <td>0.369248</td>\n",
       "    </tr>\n",
       "    <tr>\n",
       "      <th>std</th>\n",
       "      <td>116726.223686</td>\n",
       "      <td>228430.857607</td>\n",
       "      <td>228803.645742</td>\n",
       "      <td>0.482602</td>\n",
       "    </tr>\n",
       "    <tr>\n",
       "      <th>min</th>\n",
       "      <td>0.000000</td>\n",
       "      <td>1.000000</td>\n",
       "      <td>2.000000</td>\n",
       "      <td>0.000000</td>\n",
       "    </tr>\n",
       "    <tr>\n",
       "      <th>25%</th>\n",
       "      <td>101087.500000</td>\n",
       "      <td>193381.000000</td>\n",
       "      <td>191012.000000</td>\n",
       "      <td>0.000000</td>\n",
       "    </tr>\n",
       "    <tr>\n",
       "      <th>50%</th>\n",
       "      <td>202175.000000</td>\n",
       "      <td>390630.000000</td>\n",
       "      <td>388364.000000</td>\n",
       "      <td>0.000000</td>\n",
       "    </tr>\n",
       "    <tr>\n",
       "      <th>75%</th>\n",
       "      <td>303262.500000</td>\n",
       "      <td>589514.000000</td>\n",
       "      <td>588071.000000</td>\n",
       "      <td>1.000000</td>\n",
       "    </tr>\n",
       "    <tr>\n",
       "      <th>max</th>\n",
       "      <td>404350.000000</td>\n",
       "      <td>789800.000000</td>\n",
       "      <td>789801.000000</td>\n",
       "      <td>1.000000</td>\n",
       "    </tr>\n",
       "  </tbody>\n",
       "</table>\n",
       "</div>"
      ],
      "text/plain": [
       "                  id           qid1           qid2   is_duplicate\n",
       "count  404351.000000  404351.000000  404351.000000  404351.000000\n",
       "mean   202175.000000  391840.987691  390195.973765       0.369248\n",
       "std    116726.223686  228430.857607  228803.645742       0.482602\n",
       "min         0.000000       1.000000       2.000000       0.000000\n",
       "25%    101087.500000  193381.000000  191012.000000       0.000000\n",
       "50%    202175.000000  390630.000000  388364.000000       0.000000\n",
       "75%    303262.500000  589514.000000  588071.000000       1.000000\n",
       "max    404350.000000  789800.000000  789801.000000       1.000000"
      ]
     },
     "execution_count": 107,
     "metadata": {},
     "output_type": "execute_result"
    }
   ],
   "source": [
    "df1.describe()"
   ]
  },
  {
   "cell_type": "code",
   "execution_count": 108,
   "id": "5bf8ac2e",
   "metadata": {},
   "outputs": [
    {
     "data": {
      "image/png": "[encoded data removed]",
      "text/plain": [
       "<Figure size 640x480 with 1 Axes>"
      ]
     },
     "metadata": {},
     "output_type": "display_data"
    }
   ],
   "source": [
    "df1[\"is_duplicate\"].value_counts().plot(kind=\"pie\",autopct=\"%2f\")\n",
    "plt.show()"
   ]
  },
  {
   "cell_type": "code",
   "execution_count": 109,
   "id": "4bafbf76",
   "metadata": {},
   "outputs": [
    {
     "name": "stdout",
     "output_type": "stream",
     "text": [
      "number of unique questions 789801\n"
     ]
    }
   ],
   "source": [
    "#Number of unique Questions\n",
    "qids=pd.Series(df1[\"qid1\"].tolist()+df1[\"qid2\"].tolist())\n",
    "print(\"number of unique questions\",len(np.unique(qids)))\n",
    "# Because its possible that questions pairs are unique and question are similar"
   ]
  },
  {
   "cell_type": "code",
   "execution_count": 110,
   "id": "6d9d34af",
   "metadata": {},
   "outputs": [
    {
     "name": "stdout",
     "output_type": "stream",
     "text": [
      "Questions that occurs only once: 776103\n",
      "Questions that occurs more than once: 13698\n"
     ]
    }
   ],
   "source": [
    "print(\"Questions that occurs only once:\",np.sum(qids.value_counts()==1))\n",
    "print(\"Questions that occurs more than once:\",np.sum(qids.value_counts()>1)) "
   ]
  },
  {
   "cell_type": "code",
   "execution_count": 111,
   "id": "3b0d818f",
   "metadata": {},
   "outputs": [
    {
     "data": {
      "text/plain": [
       "3"
      ]
     },
     "execution_count": 111,
     "metadata": {},
     "output_type": "execute_result"
    }
   ],
   "source": [
    "np.sum(df.iloc[:,1:3].duplicated()) # three duplicates"
   ]
  },
  {
   "cell_type": "code",
   "execution_count": 112,
   "id": "49f5ce0d",
   "metadata": {},
   "outputs": [
    {
     "data": {
      "text/plain": [
       "(404351, 6)"
      ]
     },
     "execution_count": 112,
     "metadata": {},
     "output_type": "execute_result"
    }
   ],
   "source": [
    "df.shape"
   ]
  },
  {
   "cell_type": "code",
   "execution_count": 113,
   "id": "7ea9b103",
   "metadata": {},
   "outputs": [],
   "source": [
    "df=df.drop_duplicates([\"qid1\",\"qid2\"])"
   ]
  },
  {
   "cell_type": "code",
   "execution_count": 114,
   "id": "b7e6006b",
   "metadata": {},
   "outputs": [
    {
     "data": {
      "text/plain": [
       "(404348, 6)"
      ]
     },
     "execution_count": 114,
     "metadata": {},
     "output_type": "execute_result"
    }
   ],
   "source": [
    "df.shape # 3 duplicates has been deleted"
   ]
  },
  {
   "cell_type": "code",
   "execution_count": 115,
   "id": "857b19ba",
   "metadata": {},
   "outputs": [
    {
     "data": {
      "text/plain": [
       "id              0\n",
       "qid1            0\n",
       "qid2            0\n",
       "question1       1\n",
       "question2       2\n",
       "is_duplicate    0\n",
       "dtype: int64"
      ]
     },
     "execution_count": 115,
     "metadata": {},
     "output_type": "execute_result"
    }
   ],
   "source": [
    "df.isnull().sum()"
   ]
  },
  {
   "cell_type": "code",
   "execution_count": 116,
   "id": "f4050612",
   "metadata": {},
   "outputs": [],
   "source": [
    "df=df.fillna(\"\")"
   ]
  },
  {
   "cell_type": "code",
   "execution_count": 117,
   "id": "e865bc25",
   "metadata": {},
   "outputs": [
    {
     "data": {
      "text/plain": [
       "id              0\n",
       "qid1            0\n",
       "qid2            0\n",
       "question1       0\n",
       "question2       0\n",
       "is_duplicate    0\n",
       "dtype: int64"
      ]
     },
     "execution_count": 117,
     "metadata": {},
     "output_type": "execute_result"
    }
   ],
   "source": [
    "df.isnull().sum() # Filled the null values with "
   ]
  },
  {
   "cell_type": "markdown",
   "id": "05e49309",
   "metadata": {},
   "source": [
    "## Basic Feature Extraction (before cleaning) "
   ]
  },
  {
   "cell_type": "markdown",
   "id": "a5c2514a",
   "metadata": {},
   "source": [
    "Let us now construct a few features like:\n",
    " - ____freq_qid1____ = Frequency of qid1's\n",
    " - ____freq_qid2____ = Frequency of qid2's \n",
    " - ____q1len____ = Length of q1\n",
    " - ____q2len____ = Length of q2\n",
    " - ____q1_n_words____ = Number of words in Question 1\n",
    " - ____q2_n_words____ = Number of words in Question 2\n",
    " - ____word_Common____ = (Number of common unique words in Question 1 and Question 2)\n",
    " - ____word_Total____ =(Total num of words in Question 1 + Total num of words in Question 2)\n",
    " - ____word_share____ = (word_common)/(word_Total)\n",
    " - ____freq_q1+freq_q2____ = sum total of frequency of qid1 and qid2 \n",
    " - ____freq_q1-freq_q2____ = absolute difference of frequency of qid1 and qid2 "
   ]
  },
  {
   "cell_type": "code",
   "execution_count": 118,
   "id": "97638497",
   "metadata": {},
   "outputs": [],
   "source": [
    "df[\"freq_qid1\"]=df.groupby(\"qid1\")[\"qid1\"].transform(\"count\")\n",
    "df[\"freq_qid2\"]=df.groupby(\"qid2\")[\"qid2\"].transform(\"count\")"
   ]
  },
  {
   "cell_type": "code",
   "execution_count": 119,
   "id": "b50173f8",
   "metadata": {},
   "outputs": [],
   "source": [
    "df[\"q1len\"]=df[\"question1\"].str.len()\n",
    "df[\"q2len\"]=df[\"question2\"].str.len()"
   ]
  },
  {
   "cell_type": "code",
   "execution_count": 120,
   "id": "1ba131a8",
   "metadata": {},
   "outputs": [],
   "source": [
    "df[\"q1_n_words\"]=df[\"question1\"].apply(lambda row: len(row.split(\" \")))\n",
    "df[\"q2_n_words\"]=df[\"question2\"].apply(lambda row: len(row.split(\" \")))"
   ]
  },
  {
   "cell_type": "code",
   "execution_count": 121,
   "id": "b6d82848",
   "metadata": {},
   "outputs": [],
   "source": [
    "def normalized_word_Common(row):\n",
    "    w1 = set(map(lambda word: word.lower().strip(), row['question1'].split(\" \")))\n",
    "    w2 = set(map(lambda word: word.lower().strip(), row['question2'].split(\" \")))    \n",
    "    return 1.0 * len(w1 & w2)\n",
    "df['word_Common'] = df.apply(normalized_word_Common, axis=1)"
   ]
  },
  {
   "cell_type": "code",
   "execution_count": 122,
   "id": "dc059a08",
   "metadata": {},
   "outputs": [],
   "source": [
    "def normalized_word_Total(row):\n",
    "    w1 = set(map(lambda word: word.lower().strip(), row['question1'].split(\" \")))\n",
    "    w2 = set(map(lambda word: word.lower().strip(), row['question2'].split(\" \")))    \n",
    "    return 1.0 * (len(w1) + len(w2))\n",
    "df['word_Total'] = df.apply(normalized_word_Total, axis=1)"
   ]
  },
  {
   "cell_type": "code",
   "execution_count": 123,
   "id": "23f5afbf",
   "metadata": {},
   "outputs": [],
   "source": [
    "    def normalized_word_share(row):\n",
    "        w1 = set(map(lambda word: word.lower().strip(), row['question1'].split(\" \")))\n",
    "        w2 = set(map(lambda word: word.lower().strip(), row['question2'].split(\" \")))    \n",
    "        return 1.0 * len(w1 & w2)/(len(w1) + len(w2))\n",
    "    df['word_share'] = df.apply(normalized_word_share, axis=1)"
   ]
  },
  {
   "cell_type": "code",
   "execution_count": 124,
   "id": "8c0d88e1",
   "metadata": {},
   "outputs": [],
   "source": [
    "df[\"freq_q1+freq_q2\"]= df[\"freq_qid1\"]+df[\"freq_qid2\"]\n",
    "df[\"freq_q1-freq_q2\"]= abs(df[\"freq_qid1\"]-df[\"freq_qid2\"])"
   ]
  },
  {
   "cell_type": "code",
   "execution_count": 125,
   "id": "d2e3c9a1",
   "metadata": {},
   "outputs": [
    {
     "data": {
      "text/html": [
       "<div>\n",
       "<style scoped>\n",
       "    .dataframe tbody tr th:only-of-type {\n",
       "        vertical-align: middle;\n",
       "    }\n",
       "\n",
       "    .dataframe tbody tr th {\n",
       "        vertical-align: top;\n",
       "    }\n",
       "\n",
       "    .dataframe thead th {\n",
       "        text-align: right;\n",
       "    }\n",
       "</style>\n",
       "<table border=\"1\" class=\"dataframe\">\n",
       "  <thead>\n",
       "    <tr style=\"text-align: right;\">\n",
       "      <th></th>\n",
       "      <th>id</th>\n",
       "      <th>qid1</th>\n",
       "      <th>qid2</th>\n",
       "      <th>question1</th>\n",
       "      <th>question2</th>\n",
       "      <th>is_duplicate</th>\n",
       "      <th>freq_qid1</th>\n",
       "      <th>freq_qid2</th>\n",
       "      <th>q1len</th>\n",
       "      <th>q2len</th>\n",
       "      <th>q1_n_words</th>\n",
       "      <th>q2_n_words</th>\n",
       "      <th>word_Common</th>\n",
       "      <th>word_Total</th>\n",
       "      <th>word_share</th>\n",
       "      <th>freq_q1+freq_q2</th>\n",
       "      <th>freq_q1-freq_q2</th>\n",
       "    </tr>\n",
       "  </thead>\n",
       "  <tbody>\n",
       "    <tr>\n",
       "      <th>0</th>\n",
       "      <td>0</td>\n",
       "      <td>1</td>\n",
       "      <td>2</td>\n",
       "      <td>What is the step by step guide to invest in sh...</td>\n",
       "      <td>What is the step by step guide to invest in sh...</td>\n",
       "      <td>0</td>\n",
       "      <td>1</td>\n",
       "      <td>1</td>\n",
       "      <td>66</td>\n",
       "      <td>57</td>\n",
       "      <td>14</td>\n",
       "      <td>12</td>\n",
       "      <td>10.0</td>\n",
       "      <td>23.0</td>\n",
       "      <td>0.434783</td>\n",
       "      <td>2</td>\n",
       "      <td>0</td>\n",
       "    </tr>\n",
       "    <tr>\n",
       "      <th>1</th>\n",
       "      <td>1</td>\n",
       "      <td>3</td>\n",
       "      <td>4</td>\n",
       "      <td>What is the story of Kohinoor (Koh-i-Noor) Dia...</td>\n",
       "      <td>What would happen if the Indian government sto...</td>\n",
       "      <td>0</td>\n",
       "      <td>1</td>\n",
       "      <td>1</td>\n",
       "      <td>51</td>\n",
       "      <td>88</td>\n",
       "      <td>8</td>\n",
       "      <td>13</td>\n",
       "      <td>4.0</td>\n",
       "      <td>20.0</td>\n",
       "      <td>0.200000</td>\n",
       "      <td>2</td>\n",
       "      <td>0</td>\n",
       "    </tr>\n",
       "    <tr>\n",
       "      <th>2</th>\n",
       "      <td>2</td>\n",
       "      <td>5</td>\n",
       "      <td>6</td>\n",
       "      <td>How can I increase the speed of my internet co...</td>\n",
       "      <td>How can Internet speed be increased by hacking...</td>\n",
       "      <td>0</td>\n",
       "      <td>1</td>\n",
       "      <td>1</td>\n",
       "      <td>73</td>\n",
       "      <td>59</td>\n",
       "      <td>14</td>\n",
       "      <td>10</td>\n",
       "      <td>4.0</td>\n",
       "      <td>24.0</td>\n",
       "      <td>0.166667</td>\n",
       "      <td>2</td>\n",
       "      <td>0</td>\n",
       "    </tr>\n",
       "    <tr>\n",
       "      <th>3</th>\n",
       "      <td>3</td>\n",
       "      <td>7</td>\n",
       "      <td>8</td>\n",
       "      <td>Why am I mentally very lonely? How can I solve...</td>\n",
       "      <td>Find the remainder when [math]23^{24}[/math] i...</td>\n",
       "      <td>0</td>\n",
       "      <td>1</td>\n",
       "      <td>1</td>\n",
       "      <td>50</td>\n",
       "      <td>65</td>\n",
       "      <td>11</td>\n",
       "      <td>9</td>\n",
       "      <td>0.0</td>\n",
       "      <td>19.0</td>\n",
       "      <td>0.000000</td>\n",
       "      <td>2</td>\n",
       "      <td>0</td>\n",
       "    </tr>\n",
       "    <tr>\n",
       "      <th>4</th>\n",
       "      <td>4</td>\n",
       "      <td>9</td>\n",
       "      <td>10</td>\n",
       "      <td>Which one dissolve in water quikly sugar, salt...</td>\n",
       "      <td>Which fish would survive in salt water?</td>\n",
       "      <td>0</td>\n",
       "      <td>1</td>\n",
       "      <td>1</td>\n",
       "      <td>76</td>\n",
       "      <td>39</td>\n",
       "      <td>13</td>\n",
       "      <td>7</td>\n",
       "      <td>2.0</td>\n",
       "      <td>20.0</td>\n",
       "      <td>0.100000</td>\n",
       "      <td>2</td>\n",
       "      <td>0</td>\n",
       "    </tr>\n",
       "  </tbody>\n",
       "</table>\n",
       "</div>"
      ],
      "text/plain": [
       "   id  qid1  qid2                                          question1  \\\n",
       "0   0     1     2  What is the step by step guide to invest in sh...   \n",
       "1   1     3     4  What is the story of Kohinoor (Koh-i-Noor) Dia...   \n",
       "2   2     5     6  How can I increase the speed of my internet co...   \n",
       "3   3     7     8  Why am I mentally very lonely? How can I solve...   \n",
       "4   4     9    10  Which one dissolve in water quikly sugar, salt...   \n",
       "\n",
       "                                           question2  is_duplicate  freq_qid1  \\\n",
       "0  What is the step by step guide to invest in sh...             0          1   \n",
       "1  What would happen if the Indian government sto...             0          1   \n",
       "2  How can Internet speed be increased by hacking...             0          1   \n",
       "3  Find the remainder when [math]23^{24}[/math] i...             0          1   \n",
       "4            Which fish would survive in salt water?             0          1   \n",
       "\n",
       "   freq_qid2  q1len  q2len  q1_n_words  q2_n_words  word_Common  word_Total  \\\n",
       "0          1     66     57          14          12         10.0        23.0   \n",
       "1          1     51     88           8          13          4.0        20.0   \n",
       "2          1     73     59          14          10          4.0        24.0   \n",
       "3          1     50     65          11           9          0.0        19.0   \n",
       "4          1     76     39          13           7          2.0        20.0   \n",
       "\n",
       "   word_share  freq_q1+freq_q2  freq_q1-freq_q2  \n",
       "0    0.434783                2                0  \n",
       "1    0.200000                2                0  \n",
       "2    0.166667                2                0  \n",
       "3    0.000000                2                0  \n",
       "4    0.100000                2                0  "
      ]
     },
     "execution_count": 125,
     "metadata": {},
     "output_type": "execute_result"
    }
   ],
   "source": [
    "df.head()"
   ]
  },
  {
   "cell_type": "code",
   "execution_count": 126,
   "id": "d3be6802",
   "metadata": {},
   "outputs": [
    {
     "data": {
      "text/plain": [
       "(404348, 17)"
      ]
     },
     "execution_count": 126,
     "metadata": {},
     "output_type": "execute_result"
    }
   ],
   "source": [
    "df.shape"
   ]
  },
  {
   "cell_type": "code",
   "execution_count": 127,
   "id": "160d6b9f",
   "metadata": {
    "scrolled": true
   },
   "outputs": [
    {
     "data": {
      "image/png": "[encoded data removed]",
      "text/plain": [
       "<Figure size 1200x800 with 2 Axes>"
      ]
     },
     "metadata": {},
     "output_type": "display_data"
    }
   ],
   "source": [
    "import warnings\n",
    "warnings.filterwarnings('ignore')\n",
    "plt.figure(figsize=(12,8))\n",
    "plt.subplot(1,2,1)\n",
    "sns.distplot(df[df[\"is_duplicate\"]==0][\"word_share\"],label=\"0\")\n",
    "sns.distplot(df[df[\"is_duplicate\"]==1][\"word_share\"],label=\"1\")\n",
    "plt.subplot(1,2,2)\n",
    "sns.violinplot(x=\"is_duplicate\",y=\"word_share\",data=df)\n",
    "plt.show()"
   ]
  },
  {
   "cell_type": "markdown",
   "id": "2dbb1ac1",
   "metadata": {},
   "source": [
    "## Advanced Feature Extraction (NLP and Fuzzy Features)"
   ]
  },
  {
   "cell_type": "markdown",
   "id": "792645b3",
   "metadata": {},
   "source": [
    "Definition:\n",
    "- __Token__: You get a token by splitting sentence a space\n",
    "- __Stop_Word__ : stop words as per NLTK.\n",
    "- __Word__ : A token that is not a stop_word\n",
    "\n",
    "\n",
    "Features:\n",
    "- __cwc_min__ :  Ratio of common_word_count to min lenghth of word count of Q1 and Q2 <br>cwc_min = common_word_count / (min(len(q1_words), len(q2_words))\n",
    "<br>\n",
    "<br>\n",
    "- __cwc_max__ :  Ratio of common_word_count to max lenghth of word count of Q1 and Q2 <br>cwc_max = common_word_count / (max(len(q1_words), len(q2_words))\n",
    "<br>\n",
    "<br>           \n",
    "- __abs_len_diff__ :  Abs. length difference<br>abs_len_diff = abs(len(q1_tokens) - len(q2_tokens))\n",
    "<br>\n",
    "<br>\n",
    "- __longest_substr_ratio__ :  Ratio of length longest common substring to min lenghth of token count of Q1 and Q2<br>longest_substr_ratio = len(longest common substring) / (min(len(q1_tokens), len(q2_tokens))\n"
   ]
  },
  {
   "cell_type": "code",
   "execution_count": 128,
   "id": "6d612035",
   "metadata": {},
   "outputs": [],
   "source": [
    "def count_common_words(row):\n",
    "    w1=set(row[\"question1\"].split())\n",
    "    w2=set(row[\"question2\"].split())\n",
    "    commonwords=w1.intersection(w2)\n",
    "    if min(len(w1),len(w2))==0 or len(commonwords)==0:\n",
    "        return 0\n",
    "    return len(commonwords)/min(len(w1),len(w2))"
   ]
  },
  {
   "cell_type": "code",
   "execution_count": 129,
   "id": "4477c005",
   "metadata": {},
   "outputs": [],
   "source": [
    "df[\"cwc_min\"]= df.apply(count_common_words,axis=1)"
   ]
  },
  {
   "cell_type": "code",
   "execution_count": 130,
   "id": "723d5209",
   "metadata": {},
   "outputs": [],
   "source": [
    "def count_common_words_max(row):\n",
    "    w1=set(row[\"question1\"].split())\n",
    "    w2=set(row[\"question2\"].split())\n",
    "    commonwords=w1.intersection(w2)\n",
    "    if max(len(w1),len(w2))==0 or len(commonwords)==0:\n",
    "        return 0\n",
    "    return len(commonwords)/max(len(w1),len(w2))"
   ]
  },
  {
   "cell_type": "code",
   "execution_count": 131,
   "id": "56c06a5a",
   "metadata": {},
   "outputs": [],
   "source": [
    "df[\"cwc_max\"]= df.apply(count_common_words_max,axis=1)"
   ]
  },
  {
   "cell_type": "code",
   "execution_count": 132,
   "id": "828d1a0e",
   "metadata": {},
   "outputs": [],
   "source": [
    "def abs_len_difference(row):\n",
    "    w1=set(row[\"question1\"].split())\n",
    "    w2=set(row[\"question2\"].split())\n",
    "    return abs(len(w1)-len(w2))"
   ]
  },
  {
   "cell_type": "code",
   "execution_count": 133,
   "id": "70506040",
   "metadata": {},
   "outputs": [],
   "source": [
    "df[\"abs len difference\"]=df.apply(abs_len_difference,axis=1)"
   ]
  },
  {
   "cell_type": "code",
   "execution_count": 134,
   "id": "c31c82bb",
   "metadata": {},
   "outputs": [],
   "source": [
    "## matching the number of letters\n",
    "import difflib\n",
    "def longest_common_substring(str1, str2):\n",
    "    s = difflib.SequenceMatcher(None, str1, str2)\n",
    "    match = s.find_longest_match(0, len(str1), 0, len(str2))\n",
    "    return len(str1[match.a: match.a + match.size].split())\n"
   ]
  },
  {
   "cell_type": "code",
   "execution_count": 135,
   "id": "97142443",
   "metadata": {},
   "outputs": [],
   "source": [
    "df['LongestCommonSubstring'] = df.apply(lambda row: longest_common_substring(row['question1'], row['question2']), axis=1)"
   ]
  },
  {
   "cell_type": "markdown",
   "id": "8f20ea94",
   "metadata": {},
   "source": [
    "## Text processing"
   ]
  },
  {
   "cell_type": "markdown",
   "id": "799e1787",
   "metadata": {},
   "source": [
    "- Preprocessing:\n",
    "    - Removing html tags \n",
    "    - Removing Punctuations\n",
    "    - Performing stemming\n",
    "    - Removing Stopwords"
   ]
  },
  {
   "cell_type": "code",
   "execution_count": 136,
   "id": "dc7f072e",
   "metadata": {},
   "outputs": [],
   "source": [
    "from bs4 import BeautifulSoup"
   ]
  },
  {
   "cell_type": "code",
   "execution_count": 137,
   "id": "5937c485",
   "metadata": {},
   "outputs": [],
   "source": [
    "def remove_html_tags(text):\n",
    "    return BeautifulSoup(text,\"html.parser\").get_text()"
   ]
  },
  {
   "cell_type": "code",
   "execution_count": 138,
   "id": "b3a10412",
   "metadata": {},
   "outputs": [],
   "source": [
    "df[\"question1\"]=df[\"question1\"].apply(remove_html_tags)"
   ]
  },
  {
   "cell_type": "code",
   "execution_count": 139,
   "id": "031f8b1f",
   "metadata": {},
   "outputs": [],
   "source": [
    "df[\"question2\"]=df[\"question2\"].apply(remove_html_tags)"
   ]
  },
  {
   "cell_type": "code",
   "execution_count": 140,
   "id": "a9ed895b",
   "metadata": {},
   "outputs": [],
   "source": [
    "## Removing Punctuations\n",
    "import re\n",
    "def remove_punctuations(text):\n",
    "    return re.sub(r'[^\\w\\s]',\"\",text)\n",
    "df[\"question1\"]=df[\"question1\"].apply(remove_punctuations)\n",
    "df[\"question2\"]=df[\"question2\"].apply(remove_punctuations)"
   ]
  },
  {
   "cell_type": "code",
   "execution_count": 141,
   "id": "8de57761",
   "metadata": {},
   "outputs": [],
   "source": [
    "## converting to lower case\n",
    "def lower_case(text):\n",
    "    return text.lower()"
   ]
  },
  {
   "cell_type": "code",
   "execution_count": 142,
   "id": "78862f10",
   "metadata": {},
   "outputs": [],
   "source": [
    "## Convert to Lower Case\n",
    "df[\"question1\"]=df[\"question1\"].apply(lower_case)\n",
    "df[\"question2\"]=df[\"question2\"].apply(lower_case)"
   ]
  },
  {
   "cell_type": "code",
   "execution_count": 143,
   "id": "71d0a25a",
   "metadata": {},
   "outputs": [],
   "source": [
    "from nltk.stem import PorterStemmer\n",
    "ps=PorterStemmer()"
   ]
  },
  {
   "cell_type": "code",
   "execution_count": 144,
   "id": "d1b48c03",
   "metadata": {},
   "outputs": [],
   "source": [
    "def stemming(text):\n",
    "    return \" \".join([ps.stem(word) for word in text.split()])"
   ]
  },
  {
   "cell_type": "code",
   "execution_count": 145,
   "id": "9b7a40ca",
   "metadata": {},
   "outputs": [],
   "source": [
    "## Performing Steemming\n",
    "df[\"question1\"]=df[\"question1\"].apply(stemming)\n",
    "df[\"question2\"]=df[\"question2\"].apply(stemming)"
   ]
  },
  {
   "cell_type": "code",
   "execution_count": 146,
   "id": "ce471f2e",
   "metadata": {},
   "outputs": [
    {
     "data": {
      "text/html": [
       "<div>\n",
       "<style scoped>\n",
       "    .dataframe tbody tr th:only-of-type {\n",
       "        vertical-align: middle;\n",
       "    }\n",
       "\n",
       "    .dataframe tbody tr th {\n",
       "        vertical-align: top;\n",
       "    }\n",
       "\n",
       "    .dataframe thead th {\n",
       "        text-align: right;\n",
       "    }\n",
       "</style>\n",
       "<table border=\"1\" class=\"dataframe\">\n",
       "  <thead>\n",
       "    <tr style=\"text-align: right;\">\n",
       "      <th></th>\n",
       "      <th>id</th>\n",
       "      <th>qid1</th>\n",
       "      <th>qid2</th>\n",
       "      <th>question1</th>\n",
       "      <th>question2</th>\n",
       "      <th>is_duplicate</th>\n",
       "      <th>freq_qid1</th>\n",
       "      <th>freq_qid2</th>\n",
       "      <th>q1len</th>\n",
       "      <th>q2len</th>\n",
       "      <th>...</th>\n",
       "      <th>q2_n_words</th>\n",
       "      <th>word_Common</th>\n",
       "      <th>word_Total</th>\n",
       "      <th>word_share</th>\n",
       "      <th>freq_q1+freq_q2</th>\n",
       "      <th>freq_q1-freq_q2</th>\n",
       "      <th>cwc_min</th>\n",
       "      <th>cwc_max</th>\n",
       "      <th>abs len difference</th>\n",
       "      <th>LongestCommonSubstring</th>\n",
       "    </tr>\n",
       "  </thead>\n",
       "  <tbody>\n",
       "    <tr>\n",
       "      <th>0</th>\n",
       "      <td>0</td>\n",
       "      <td>1</td>\n",
       "      <td>2</td>\n",
       "      <td>what is the step by step guid to invest in sha...</td>\n",
       "      <td>what is the step by step guid to invest in sha...</td>\n",
       "      <td>0</td>\n",
       "      <td>1</td>\n",
       "      <td>1</td>\n",
       "      <td>66</td>\n",
       "      <td>57</td>\n",
       "      <td>...</td>\n",
       "      <td>12</td>\n",
       "      <td>10.0</td>\n",
       "      <td>23.0</td>\n",
       "      <td>0.434783</td>\n",
       "      <td>2</td>\n",
       "      <td>0</td>\n",
       "      <td>0.909091</td>\n",
       "      <td>0.833333</td>\n",
       "      <td>1</td>\n",
       "      <td>12</td>\n",
       "    </tr>\n",
       "    <tr>\n",
       "      <th>1</th>\n",
       "      <td>1</td>\n",
       "      <td>3</td>\n",
       "      <td>4</td>\n",
       "      <td>what is the stori of kohinoor kohinoor diamond</td>\n",
       "      <td>what would happen if the indian govern stole t...</td>\n",
       "      <td>0</td>\n",
       "      <td>1</td>\n",
       "      <td>1</td>\n",
       "      <td>51</td>\n",
       "      <td>88</td>\n",
       "      <td>...</td>\n",
       "      <td>13</td>\n",
       "      <td>4.0</td>\n",
       "      <td>20.0</td>\n",
       "      <td>0.200000</td>\n",
       "      <td>2</td>\n",
       "      <td>0</td>\n",
       "      <td>0.500000</td>\n",
       "      <td>0.333333</td>\n",
       "      <td>4</td>\n",
       "      <td>2</td>\n",
       "    </tr>\n",
       "    <tr>\n",
       "      <th>2</th>\n",
       "      <td>2</td>\n",
       "      <td>5</td>\n",
       "      <td>6</td>\n",
       "      <td>how can i increas the speed of my internet con...</td>\n",
       "      <td>how can internet speed be increas by hack thro...</td>\n",
       "      <td>0</td>\n",
       "      <td>1</td>\n",
       "      <td>1</td>\n",
       "      <td>73</td>\n",
       "      <td>59</td>\n",
       "      <td>...</td>\n",
       "      <td>10</td>\n",
       "      <td>4.0</td>\n",
       "      <td>24.0</td>\n",
       "      <td>0.166667</td>\n",
       "      <td>2</td>\n",
       "      <td>0</td>\n",
       "      <td>0.300000</td>\n",
       "      <td>0.214286</td>\n",
       "      <td>4</td>\n",
       "      <td>3</td>\n",
       "    </tr>\n",
       "    <tr>\n",
       "      <th>3</th>\n",
       "      <td>3</td>\n",
       "      <td>7</td>\n",
       "      <td>8</td>\n",
       "      <td>whi am i mental veri lone how can i solv it</td>\n",
       "      <td>find the remaind when math2324math is divid by...</td>\n",
       "      <td>0</td>\n",
       "      <td>1</td>\n",
       "      <td>1</td>\n",
       "      <td>50</td>\n",
       "      <td>65</td>\n",
       "      <td>...</td>\n",
       "      <td>9</td>\n",
       "      <td>0.0</td>\n",
       "      <td>19.0</td>\n",
       "      <td>0.000000</td>\n",
       "      <td>2</td>\n",
       "      <td>0</td>\n",
       "      <td>0.000000</td>\n",
       "      <td>0.000000</td>\n",
       "      <td>1</td>\n",
       "      <td>1</td>\n",
       "    </tr>\n",
       "    <tr>\n",
       "      <th>4</th>\n",
       "      <td>4</td>\n",
       "      <td>9</td>\n",
       "      <td>10</td>\n",
       "      <td>which one dissolv in water quikli sugar salt m...</td>\n",
       "      <td>which fish would surviv in salt water</td>\n",
       "      <td>0</td>\n",
       "      <td>1</td>\n",
       "      <td>1</td>\n",
       "      <td>76</td>\n",
       "      <td>39</td>\n",
       "      <td>...</td>\n",
       "      <td>7</td>\n",
       "      <td>2.0</td>\n",
       "      <td>20.0</td>\n",
       "      <td>0.100000</td>\n",
       "      <td>2</td>\n",
       "      <td>0</td>\n",
       "      <td>0.285714</td>\n",
       "      <td>0.153846</td>\n",
       "      <td>6</td>\n",
       "      <td>1</td>\n",
       "    </tr>\n",
       "  </tbody>\n",
       "</table>\n",
       "<p>5 rows × 21 columns</p>\n",
       "</div>"
      ],
      "text/plain": [
       "   id  qid1  qid2                                          question1  \\\n",
       "0   0     1     2  what is the step by step guid to invest in sha...   \n",
       "1   1     3     4     what is the stori of kohinoor kohinoor diamond   \n",
       "2   2     5     6  how can i increas the speed of my internet con...   \n",
       "3   3     7     8        whi am i mental veri lone how can i solv it   \n",
       "4   4     9    10  which one dissolv in water quikli sugar salt m...   \n",
       "\n",
       "                                           question2  is_duplicate  freq_qid1  \\\n",
       "0  what is the step by step guid to invest in sha...             0          1   \n",
       "1  what would happen if the indian govern stole t...             0          1   \n",
       "2  how can internet speed be increas by hack thro...             0          1   \n",
       "3  find the remaind when math2324math is divid by...             0          1   \n",
       "4              which fish would surviv in salt water             0          1   \n",
       "\n",
       "   freq_qid2  q1len  q2len  ...  q2_n_words  word_Common  word_Total  \\\n",
       "0          1     66     57  ...          12         10.0        23.0   \n",
       "1          1     51     88  ...          13          4.0        20.0   \n",
       "2          1     73     59  ...          10          4.0        24.0   \n",
       "3          1     50     65  ...           9          0.0        19.0   \n",
       "4          1     76     39  ...           7          2.0        20.0   \n",
       "\n",
       "   word_share  freq_q1+freq_q2  freq_q1-freq_q2   cwc_min   cwc_max  \\\n",
       "0    0.434783                2                0  0.909091  0.833333   \n",
       "1    0.200000                2                0  0.500000  0.333333   \n",
       "2    0.166667                2                0  0.300000  0.214286   \n",
       "3    0.000000                2                0  0.000000  0.000000   \n",
       "4    0.100000                2                0  0.285714  0.153846   \n",
       "\n",
       "   abs len difference  LongestCommonSubstring  \n",
       "0                   1                      12  \n",
       "1                   4                       2  \n",
       "2                   4                       3  \n",
       "3                   1                       1  \n",
       "4                   6                       1  \n",
       "\n",
       "[5 rows x 21 columns]"
      ]
     },
     "execution_count": 146,
     "metadata": {},
     "output_type": "execute_result"
    }
   ],
   "source": [
    "df.head()"
   ]
  },
  {
   "cell_type": "code",
   "execution_count": 147,
   "id": "e15b5e63",
   "metadata": {},
   "outputs": [],
   "source": [
    "# Removing Stop Words\n",
    "import nltk\n",
    "from nltk.corpus import stopwords"
   ]
  },
  {
   "cell_type": "code",
   "execution_count": 148,
   "id": "50178f34",
   "metadata": {},
   "outputs": [
    {
     "name": "stderr",
     "output_type": "stream",
     "text": [
      "[nltk_data] Downloading package stopwords to\n",
      "[nltk_data]     C:\\Users\\kvsan\\AppData\\Roaming\\nltk_data...\n",
      "[nltk_data]   Package stopwords is already up-to-date!\n"
     ]
    },
    {
     "data": {
      "text/plain": [
       "True"
      ]
     },
     "execution_count": 148,
     "metadata": {},
     "output_type": "execute_result"
    }
   ],
   "source": [
    "nltk.download(\"stopwords\")"
   ]
  },
  {
   "cell_type": "code",
   "execution_count": 149,
   "id": "830c4c59",
   "metadata": {},
   "outputs": [],
   "source": [
    "stop_wo_rds=set(stopwords.words(\"english\"))"
   ]
  },
  {
   "cell_type": "code",
   "execution_count": 152,
   "id": "57e8405a",
   "metadata": {},
   "outputs": [],
   "source": [
    "def stop_words(text):\n",
    "    filter_=[word for word in text.split() if word not in stop_wo_rds]\n",
    "    return  \" \".join(filter_)\n",
    "    "
   ]
  },
  {
   "cell_type": "code",
   "execution_count": 153,
   "id": "89fc8787",
   "metadata": {},
   "outputs": [],
   "source": [
    "# Removing Stop Words\n",
    "df[\"question1\"]=df[\"question1\"].apply(stop_words)\n",
    "df[\"question2\"]=df[\"question2\"].apply(stop_words)"
   ]
  },
  {
   "cell_type": "code",
   "execution_count": 154,
   "id": "5e1293dc",
   "metadata": {},
   "outputs": [
    {
     "data": {
      "text/html": [
       "<div>\n",
       "<style scoped>\n",
       "    .dataframe tbody tr th:only-of-type {\n",
       "        vertical-align: middle;\n",
       "    }\n",
       "\n",
       "    .dataframe tbody tr th {\n",
       "        vertical-align: top;\n",
       "    }\n",
       "\n",
       "    .dataframe thead th {\n",
       "        text-align: right;\n",
       "    }\n",
       "</style>\n",
       "<table border=\"1\" class=\"dataframe\">\n",
       "  <thead>\n",
       "    <tr style=\"text-align: right;\">\n",
       "      <th></th>\n",
       "      <th>id</th>\n",
       "      <th>qid1</th>\n",
       "      <th>qid2</th>\n",
       "      <th>question1</th>\n",
       "      <th>question2</th>\n",
       "      <th>is_duplicate</th>\n",
       "      <th>freq_qid1</th>\n",
       "      <th>freq_qid2</th>\n",
       "      <th>q1len</th>\n",
       "      <th>q2len</th>\n",
       "      <th>...</th>\n",
       "      <th>q2_n_words</th>\n",
       "      <th>word_Common</th>\n",
       "      <th>word_Total</th>\n",
       "      <th>word_share</th>\n",
       "      <th>freq_q1+freq_q2</th>\n",
       "      <th>freq_q1-freq_q2</th>\n",
       "      <th>cwc_min</th>\n",
       "      <th>cwc_max</th>\n",
       "      <th>abs len difference</th>\n",
       "      <th>LongestCommonSubstring</th>\n",
       "    </tr>\n",
       "  </thead>\n",
       "  <tbody>\n",
       "    <tr>\n",
       "      <th>0</th>\n",
       "      <td>0</td>\n",
       "      <td>1</td>\n",
       "      <td>2</td>\n",
       "      <td>step step guid invest share market india</td>\n",
       "      <td>step step guid invest share market</td>\n",
       "      <td>0</td>\n",
       "      <td>1</td>\n",
       "      <td>1</td>\n",
       "      <td>66</td>\n",
       "      <td>57</td>\n",
       "      <td>...</td>\n",
       "      <td>12</td>\n",
       "      <td>10.0</td>\n",
       "      <td>23.0</td>\n",
       "      <td>0.434783</td>\n",
       "      <td>2</td>\n",
       "      <td>0</td>\n",
       "      <td>0.909091</td>\n",
       "      <td>0.833333</td>\n",
       "      <td>1</td>\n",
       "      <td>12</td>\n",
       "    </tr>\n",
       "    <tr>\n",
       "      <th>1</th>\n",
       "      <td>1</td>\n",
       "      <td>3</td>\n",
       "      <td>4</td>\n",
       "      <td>stori kohinoor kohinoor diamond</td>\n",
       "      <td>would happen indian govern stole kohinoor kohi...</td>\n",
       "      <td>0</td>\n",
       "      <td>1</td>\n",
       "      <td>1</td>\n",
       "      <td>51</td>\n",
       "      <td>88</td>\n",
       "      <td>...</td>\n",
       "      <td>13</td>\n",
       "      <td>4.0</td>\n",
       "      <td>20.0</td>\n",
       "      <td>0.200000</td>\n",
       "      <td>2</td>\n",
       "      <td>0</td>\n",
       "      <td>0.500000</td>\n",
       "      <td>0.333333</td>\n",
       "      <td>4</td>\n",
       "      <td>2</td>\n",
       "    </tr>\n",
       "    <tr>\n",
       "      <th>2</th>\n",
       "      <td>2</td>\n",
       "      <td>5</td>\n",
       "      <td>6</td>\n",
       "      <td>increas speed internet connect use vpn</td>\n",
       "      <td>internet speed increas hack dn</td>\n",
       "      <td>0</td>\n",
       "      <td>1</td>\n",
       "      <td>1</td>\n",
       "      <td>73</td>\n",
       "      <td>59</td>\n",
       "      <td>...</td>\n",
       "      <td>10</td>\n",
       "      <td>4.0</td>\n",
       "      <td>24.0</td>\n",
       "      <td>0.166667</td>\n",
       "      <td>2</td>\n",
       "      <td>0</td>\n",
       "      <td>0.300000</td>\n",
       "      <td>0.214286</td>\n",
       "      <td>4</td>\n",
       "      <td>3</td>\n",
       "    </tr>\n",
       "    <tr>\n",
       "      <th>3</th>\n",
       "      <td>3</td>\n",
       "      <td>7</td>\n",
       "      <td>8</td>\n",
       "      <td>whi mental veri lone solv</td>\n",
       "      <td>find remaind math2324math divid 2423</td>\n",
       "      <td>0</td>\n",
       "      <td>1</td>\n",
       "      <td>1</td>\n",
       "      <td>50</td>\n",
       "      <td>65</td>\n",
       "      <td>...</td>\n",
       "      <td>9</td>\n",
       "      <td>0.0</td>\n",
       "      <td>19.0</td>\n",
       "      <td>0.000000</td>\n",
       "      <td>2</td>\n",
       "      <td>0</td>\n",
       "      <td>0.000000</td>\n",
       "      <td>0.000000</td>\n",
       "      <td>1</td>\n",
       "      <td>1</td>\n",
       "    </tr>\n",
       "    <tr>\n",
       "      <th>4</th>\n",
       "      <td>4</td>\n",
       "      <td>9</td>\n",
       "      <td>10</td>\n",
       "      <td>one dissolv water quikli sugar salt methan car...</td>\n",
       "      <td>fish would surviv salt water</td>\n",
       "      <td>0</td>\n",
       "      <td>1</td>\n",
       "      <td>1</td>\n",
       "      <td>76</td>\n",
       "      <td>39</td>\n",
       "      <td>...</td>\n",
       "      <td>7</td>\n",
       "      <td>2.0</td>\n",
       "      <td>20.0</td>\n",
       "      <td>0.100000</td>\n",
       "      <td>2</td>\n",
       "      <td>0</td>\n",
       "      <td>0.285714</td>\n",
       "      <td>0.153846</td>\n",
       "      <td>6</td>\n",
       "      <td>1</td>\n",
       "    </tr>\n",
       "  </tbody>\n",
       "</table>\n",
       "<p>5 rows × 21 columns</p>\n",
       "</div>"
      ],
      "text/plain": [
       "   id  qid1  qid2                                          question1  \\\n",
       "0   0     1     2           step step guid invest share market india   \n",
       "1   1     3     4                    stori kohinoor kohinoor diamond   \n",
       "2   2     5     6             increas speed internet connect use vpn   \n",
       "3   3     7     8                          whi mental veri lone solv   \n",
       "4   4     9    10  one dissolv water quikli sugar salt methan car...   \n",
       "\n",
       "                                           question2  is_duplicate  freq_qid1  \\\n",
       "0                 step step guid invest share market             0          1   \n",
       "1  would happen indian govern stole kohinoor kohi...             0          1   \n",
       "2                     internet speed increas hack dn             0          1   \n",
       "3               find remaind math2324math divid 2423             0          1   \n",
       "4                       fish would surviv salt water             0          1   \n",
       "\n",
       "   freq_qid2  q1len  q2len  ...  q2_n_words  word_Common  word_Total  \\\n",
       "0          1     66     57  ...          12         10.0        23.0   \n",
       "1          1     51     88  ...          13          4.0        20.0   \n",
       "2          1     73     59  ...          10          4.0        24.0   \n",
       "3          1     50     65  ...           9          0.0        19.0   \n",
       "4          1     76     39  ...           7          2.0        20.0   \n",
       "\n",
       "   word_share  freq_q1+freq_q2  freq_q1-freq_q2   cwc_min   cwc_max  \\\n",
       "0    0.434783                2                0  0.909091  0.833333   \n",
       "1    0.200000                2                0  0.500000  0.333333   \n",
       "2    0.166667                2                0  0.300000  0.214286   \n",
       "3    0.000000                2                0  0.000000  0.000000   \n",
       "4    0.100000                2                0  0.285714  0.153846   \n",
       "\n",
       "   abs len difference  LongestCommonSubstring  \n",
       "0                   1                      12  \n",
       "1                   4                       2  \n",
       "2                   4                       3  \n",
       "3                   1                       1  \n",
       "4                   6                       1  \n",
       "\n",
       "[5 rows x 21 columns]"
      ]
     },
     "execution_count": 154,
     "metadata": {},
     "output_type": "execute_result"
    }
   ],
   "source": [
    "df.head()"
   ]
  },
  {
   "cell_type": "code",
   "execution_count": 155,
   "id": "c628867f",
   "metadata": {},
   "outputs": [
    {
     "data": {
      "image/png": "[encoded data removed]",
      "text/plain": [
       "<Figure size 1200x800 with 2 Axes>"
      ]
     },
     "metadata": {},
     "output_type": "display_data"
    }
   ],
   "source": [
    "import warnings\n",
    "warnings.filterwarnings('ignore')\n",
    "plt.figure(figsize=(12,8))\n",
    "plt.subplot(1,2,1)\n",
    "sns.distplot(df[df[\"is_duplicate\"]==0][\"LongestCommonSubstring\"],label=\"0\")\n",
    "sns.distplot(df[df[\"is_duplicate\"]==1][\"LongestCommonSubstring\"],label=\"1\")\n",
    "plt.subplot(1,2,2)\n",
    "sns.violinplot(x=\"is_duplicate\",y=\"word_share\",data=df)\n",
    "plt.show()"
   ]
  },
  {
   "cell_type": "code",
   "execution_count": 156,
   "id": "0c9446d5",
   "metadata": {},
   "outputs": [
    {
     "data": {
      "image/png": "[encoded data removed]",
      "text/plain": [
       "<Figure size 1200x800 with 2 Axes>"
      ]
     },
     "metadata": {},
     "output_type": "display_data"
    }
   ],
   "source": [
    "import warnings\n",
    "warnings.filterwarnings('ignore')\n",
    "plt.figure(figsize=(12,8))\n",
    "plt.subplot(1,2,1)\n",
    "sns.distplot(df[df[\"is_duplicate\"]==0][\"cwc_min\"],label=\"0\")\n",
    "sns.distplot(df[df[\"is_duplicate\"]==1][\"cwc_min\"],label=\"1\")\n",
    "plt.subplot(1,2,2)\n",
    "sns.violinplot(x=\"is_duplicate\",y=\"word_share\",data=df)\n",
    "plt.show()"
   ]
  },
  {
   "cell_type": "code",
   "execution_count": 157,
   "id": "9df017fe",
   "metadata": {},
   "outputs": [],
   "source": [
    "# at this point we can perform tSNE to visualize the data but i am not doing it due to computational issues"
   ]
  },
  {
   "cell_type": "markdown",
   "id": "14426220",
   "metadata": {},
   "source": [
    "## TF IDF"
   ]
  },
  {
   "cell_type": "code",
   "execution_count": 232,
   "id": "48373e10",
   "metadata": {},
   "outputs": [
    {
     "data": {
      "text/plain": [
       "(404348, 21)"
      ]
     },
     "execution_count": 232,
     "metadata": {},
     "output_type": "execute_result"
    }
   ],
   "source": [
    "df.shape"
   ]
  },
  {
   "cell_type": "code",
   "execution_count": 233,
   "id": "e23361cc",
   "metadata": {},
   "outputs": [],
   "source": [
    "df1=df.iloc[:1001,:]"
   ]
  },
  {
   "cell_type": "code",
   "execution_count": 234,
   "id": "beeb6735",
   "metadata": {},
   "outputs": [
    {
     "data": {
      "text/plain": [
       "(1001, 21)"
      ]
     },
     "execution_count": 234,
     "metadata": {},
     "output_type": "execute_result"
    }
   ],
   "source": [
    "df1.shape ## due to computational issues"
   ]
  },
  {
   "cell_type": "code",
   "execution_count": 246,
   "id": "91ad76ee",
   "metadata": {},
   "outputs": [
    {
     "data": {
      "text/html": [
       "<div>\n",
       "<style scoped>\n",
       "    .dataframe tbody tr th:only-of-type {\n",
       "        vertical-align: middle;\n",
       "    }\n",
       "\n",
       "    .dataframe tbody tr th {\n",
       "        vertical-align: top;\n",
       "    }\n",
       "\n",
       "    .dataframe thead th {\n",
       "        text-align: right;\n",
       "    }\n",
       "</style>\n",
       "<table border=\"1\" class=\"dataframe\">\n",
       "  <thead>\n",
       "    <tr style=\"text-align: right;\">\n",
       "      <th></th>\n",
       "      <th>id</th>\n",
       "      <th>qid1</th>\n",
       "      <th>qid2</th>\n",
       "      <th>question1</th>\n",
       "      <th>question2</th>\n",
       "      <th>is_duplicate</th>\n",
       "      <th>freq_qid1</th>\n",
       "      <th>freq_qid2</th>\n",
       "      <th>q1len</th>\n",
       "      <th>q2len</th>\n",
       "      <th>...</th>\n",
       "      <th>q2_n_words</th>\n",
       "      <th>word_Common</th>\n",
       "      <th>word_Total</th>\n",
       "      <th>word_share</th>\n",
       "      <th>freq_q1+freq_q2</th>\n",
       "      <th>freq_q1-freq_q2</th>\n",
       "      <th>cwc_min</th>\n",
       "      <th>cwc_max</th>\n",
       "      <th>abs len difference</th>\n",
       "      <th>LongestCommonSubstring</th>\n",
       "    </tr>\n",
       "  </thead>\n",
       "  <tbody>\n",
       "    <tr>\n",
       "      <th>0</th>\n",
       "      <td>0</td>\n",
       "      <td>1</td>\n",
       "      <td>2</td>\n",
       "      <td>step step guid invest share market india</td>\n",
       "      <td>step step guid invest share market</td>\n",
       "      <td>0</td>\n",
       "      <td>1</td>\n",
       "      <td>1</td>\n",
       "      <td>66</td>\n",
       "      <td>57</td>\n",
       "      <td>...</td>\n",
       "      <td>12</td>\n",
       "      <td>10.0</td>\n",
       "      <td>23.0</td>\n",
       "      <td>0.434783</td>\n",
       "      <td>2</td>\n",
       "      <td>0</td>\n",
       "      <td>0.909091</td>\n",
       "      <td>0.833333</td>\n",
       "      <td>1</td>\n",
       "      <td>12</td>\n",
       "    </tr>\n",
       "    <tr>\n",
       "      <th>1</th>\n",
       "      <td>1</td>\n",
       "      <td>3</td>\n",
       "      <td>4</td>\n",
       "      <td>stori kohinoor kohinoor diamond</td>\n",
       "      <td>would happen indian govern stole kohinoor kohi...</td>\n",
       "      <td>0</td>\n",
       "      <td>1</td>\n",
       "      <td>1</td>\n",
       "      <td>51</td>\n",
       "      <td>88</td>\n",
       "      <td>...</td>\n",
       "      <td>13</td>\n",
       "      <td>4.0</td>\n",
       "      <td>20.0</td>\n",
       "      <td>0.200000</td>\n",
       "      <td>2</td>\n",
       "      <td>0</td>\n",
       "      <td>0.500000</td>\n",
       "      <td>0.333333</td>\n",
       "      <td>4</td>\n",
       "      <td>2</td>\n",
       "    </tr>\n",
       "    <tr>\n",
       "      <th>2</th>\n",
       "      <td>2</td>\n",
       "      <td>5</td>\n",
       "      <td>6</td>\n",
       "      <td>increas speed internet connect use vpn</td>\n",
       "      <td>internet speed increas hack dn</td>\n",
       "      <td>0</td>\n",
       "      <td>1</td>\n",
       "      <td>1</td>\n",
       "      <td>73</td>\n",
       "      <td>59</td>\n",
       "      <td>...</td>\n",
       "      <td>10</td>\n",
       "      <td>4.0</td>\n",
       "      <td>24.0</td>\n",
       "      <td>0.166667</td>\n",
       "      <td>2</td>\n",
       "      <td>0</td>\n",
       "      <td>0.300000</td>\n",
       "      <td>0.214286</td>\n",
       "      <td>4</td>\n",
       "      <td>3</td>\n",
       "    </tr>\n",
       "    <tr>\n",
       "      <th>3</th>\n",
       "      <td>3</td>\n",
       "      <td>7</td>\n",
       "      <td>8</td>\n",
       "      <td>whi mental veri lone solv</td>\n",
       "      <td>find remaind math2324math divid 2423</td>\n",
       "      <td>0</td>\n",
       "      <td>1</td>\n",
       "      <td>1</td>\n",
       "      <td>50</td>\n",
       "      <td>65</td>\n",
       "      <td>...</td>\n",
       "      <td>9</td>\n",
       "      <td>0.0</td>\n",
       "      <td>19.0</td>\n",
       "      <td>0.000000</td>\n",
       "      <td>2</td>\n",
       "      <td>0</td>\n",
       "      <td>0.000000</td>\n",
       "      <td>0.000000</td>\n",
       "      <td>1</td>\n",
       "      <td>1</td>\n",
       "    </tr>\n",
       "    <tr>\n",
       "      <th>4</th>\n",
       "      <td>4</td>\n",
       "      <td>9</td>\n",
       "      <td>10</td>\n",
       "      <td>one dissolv water quikli sugar salt methan car...</td>\n",
       "      <td>fish would surviv salt water</td>\n",
       "      <td>0</td>\n",
       "      <td>1</td>\n",
       "      <td>1</td>\n",
       "      <td>76</td>\n",
       "      <td>39</td>\n",
       "      <td>...</td>\n",
       "      <td>7</td>\n",
       "      <td>2.0</td>\n",
       "      <td>20.0</td>\n",
       "      <td>0.100000</td>\n",
       "      <td>2</td>\n",
       "      <td>0</td>\n",
       "      <td>0.285714</td>\n",
       "      <td>0.153846</td>\n",
       "      <td>6</td>\n",
       "      <td>1</td>\n",
       "    </tr>\n",
       "    <tr>\n",
       "      <th>...</th>\n",
       "      <td>...</td>\n",
       "      <td>...</td>\n",
       "      <td>...</td>\n",
       "      <td>...</td>\n",
       "      <td>...</td>\n",
       "      <td>...</td>\n",
       "      <td>...</td>\n",
       "      <td>...</td>\n",
       "      <td>...</td>\n",
       "      <td>...</td>\n",
       "      <td>...</td>\n",
       "      <td>...</td>\n",
       "      <td>...</td>\n",
       "      <td>...</td>\n",
       "      <td>...</td>\n",
       "      <td>...</td>\n",
       "      <td>...</td>\n",
       "      <td>...</td>\n",
       "      <td>...</td>\n",
       "      <td>...</td>\n",
       "      <td>...</td>\n",
       "    </tr>\n",
       "    <tr>\n",
       "      <th>996</th>\n",
       "      <td>996</td>\n",
       "      <td>1993</td>\n",
       "      <td>1994</td>\n",
       "      <td>best share purchas sale daili trade</td>\n",
       "      <td>sydney compani would best get advic busi sale ...</td>\n",
       "      <td>0</td>\n",
       "      <td>1</td>\n",
       "      <td>1</td>\n",
       "      <td>60</td>\n",
       "      <td>88</td>\n",
       "      <td>...</td>\n",
       "      <td>16</td>\n",
       "      <td>4.0</td>\n",
       "      <td>27.0</td>\n",
       "      <td>0.148148</td>\n",
       "      <td>2</td>\n",
       "      <td>0</td>\n",
       "      <td>0.272727</td>\n",
       "      <td>0.187500</td>\n",
       "      <td>5</td>\n",
       "      <td>2</td>\n",
       "    </tr>\n",
       "    <tr>\n",
       "      <th>997</th>\n",
       "      <td>997</td>\n",
       "      <td>1995</td>\n",
       "      <td>1996</td>\n",
       "      <td>girlfriend privat partstouch othercan becom pr...</td>\n",
       "      <td>whi cosmet product dont price tag</td>\n",
       "      <td>0</td>\n",
       "      <td>1</td>\n",
       "      <td>1</td>\n",
       "      <td>78</td>\n",
       "      <td>56</td>\n",
       "      <td>...</td>\n",
       "      <td>10</td>\n",
       "      <td>0.0</td>\n",
       "      <td>21.0</td>\n",
       "      <td>0.000000</td>\n",
       "      <td>2</td>\n",
       "      <td>0</td>\n",
       "      <td>0.000000</td>\n",
       "      <td>0.000000</td>\n",
       "      <td>1</td>\n",
       "      <td>1</td>\n",
       "    </tr>\n",
       "    <tr>\n",
       "      <th>998</th>\n",
       "      <td>998</td>\n",
       "      <td>1997</td>\n",
       "      <td>1998</td>\n",
       "      <td>could use cherenkov atmospher radiat gamma ray...</td>\n",
       "      <td>map surfac subsurfac planet use cosmic ray ver...</td>\n",
       "      <td>1</td>\n",
       "      <td>1</td>\n",
       "      <td>1</td>\n",
       "      <td>145</td>\n",
       "      <td>137</td>\n",
       "      <td>...</td>\n",
       "      <td>24</td>\n",
       "      <td>13.0</td>\n",
       "      <td>46.0</td>\n",
       "      <td>0.282609</td>\n",
       "      <td>2</td>\n",
       "      <td>0</td>\n",
       "      <td>0.590909</td>\n",
       "      <td>0.541667</td>\n",
       "      <td>2</td>\n",
       "      <td>4</td>\n",
       "    </tr>\n",
       "    <tr>\n",
       "      <th>999</th>\n",
       "      <td>999</td>\n",
       "      <td>1999</td>\n",
       "      <td>2000</td>\n",
       "      <td>good song lyric prank</td>\n",
       "      <td>dive blue hole dahab</td>\n",
       "      <td>0</td>\n",
       "      <td>1</td>\n",
       "      <td>1</td>\n",
       "      <td>36</td>\n",
       "      <td>30</td>\n",
       "      <td>...</td>\n",
       "      <td>6</td>\n",
       "      <td>0.0</td>\n",
       "      <td>14.0</td>\n",
       "      <td>0.000000</td>\n",
       "      <td>2</td>\n",
       "      <td>0</td>\n",
       "      <td>0.000000</td>\n",
       "      <td>0.000000</td>\n",
       "      <td>2</td>\n",
       "      <td>1</td>\n",
       "    </tr>\n",
       "    <tr>\n",
       "      <th>1000</th>\n",
       "      <td>1000</td>\n",
       "      <td>2001</td>\n",
       "      <td>2002</td>\n",
       "      <td>convert raw file jpeg photo macbook</td>\n",
       "      <td>convert raw file jpeg</td>\n",
       "      <td>0</td>\n",
       "      <td>1</td>\n",
       "      <td>1</td>\n",
       "      <td>59</td>\n",
       "      <td>37</td>\n",
       "      <td>...</td>\n",
       "      <td>8</td>\n",
       "      <td>5.0</td>\n",
       "      <td>20.0</td>\n",
       "      <td>0.250000</td>\n",
       "      <td>2</td>\n",
       "      <td>0</td>\n",
       "      <td>0.625000</td>\n",
       "      <td>0.416667</td>\n",
       "      <td>4</td>\n",
       "      <td>5</td>\n",
       "    </tr>\n",
       "  </tbody>\n",
       "</table>\n",
       "<p>1001 rows × 21 columns</p>\n",
       "</div>"
      ],
      "text/plain": [
       "        id  qid1  qid2                                          question1  \\\n",
       "0        0     1     2           step step guid invest share market india   \n",
       "1        1     3     4                    stori kohinoor kohinoor diamond   \n",
       "2        2     5     6             increas speed internet connect use vpn   \n",
       "3        3     7     8                          whi mental veri lone solv   \n",
       "4        4     9    10  one dissolv water quikli sugar salt methan car...   \n",
       "...    ...   ...   ...                                                ...   \n",
       "996    996  1993  1994                best share purchas sale daili trade   \n",
       "997    997  1995  1996  girlfriend privat partstouch othercan becom pr...   \n",
       "998    998  1997  1998  could use cherenkov atmospher radiat gamma ray...   \n",
       "999    999  1999  2000                              good song lyric prank   \n",
       "1000  1000  2001  2002                convert raw file jpeg photo macbook   \n",
       "\n",
       "                                              question2  is_duplicate  \\\n",
       "0                    step step guid invest share market             0   \n",
       "1     would happen indian govern stole kohinoor kohi...             0   \n",
       "2                        internet speed increas hack dn             0   \n",
       "3                  find remaind math2324math divid 2423             0   \n",
       "4                          fish would surviv salt water             0   \n",
       "...                                                 ...           ...   \n",
       "996   sydney compani would best get advic busi sale ...             0   \n",
       "997                   whi cosmet product dont price tag             0   \n",
       "998   map surfac subsurfac planet use cosmic ray ver...             1   \n",
       "999                                dive blue hole dahab             0   \n",
       "1000                              convert raw file jpeg             0   \n",
       "\n",
       "      freq_qid1  freq_qid2  q1len  q2len  ...  q2_n_words  word_Common  \\\n",
       "0             1          1     66     57  ...          12         10.0   \n",
       "1             1          1     51     88  ...          13          4.0   \n",
       "2             1          1     73     59  ...          10          4.0   \n",
       "3             1          1     50     65  ...           9          0.0   \n",
       "4             1          1     76     39  ...           7          2.0   \n",
       "...         ...        ...    ...    ...  ...         ...          ...   \n",
       "996           1          1     60     88  ...          16          4.0   \n",
       "997           1          1     78     56  ...          10          0.0   \n",
       "998           1          1    145    137  ...          24         13.0   \n",
       "999           1          1     36     30  ...           6          0.0   \n",
       "1000          1          1     59     37  ...           8          5.0   \n",
       "\n",
       "      word_Total  word_share  freq_q1+freq_q2  freq_q1-freq_q2   cwc_min  \\\n",
       "0           23.0    0.434783                2                0  0.909091   \n",
       "1           20.0    0.200000                2                0  0.500000   \n",
       "2           24.0    0.166667                2                0  0.300000   \n",
       "3           19.0    0.000000                2                0  0.000000   \n",
       "4           20.0    0.100000                2                0  0.285714   \n",
       "...          ...         ...              ...              ...       ...   \n",
       "996         27.0    0.148148                2                0  0.272727   \n",
       "997         21.0    0.000000                2                0  0.000000   \n",
       "998         46.0    0.282609                2                0  0.590909   \n",
       "999         14.0    0.000000                2                0  0.000000   \n",
       "1000        20.0    0.250000                2                0  0.625000   \n",
       "\n",
       "       cwc_max  abs len difference  LongestCommonSubstring  \n",
       "0     0.833333                   1                      12  \n",
       "1     0.333333                   4                       2  \n",
       "2     0.214286                   4                       3  \n",
       "3     0.000000                   1                       1  \n",
       "4     0.153846                   6                       1  \n",
       "...        ...                 ...                     ...  \n",
       "996   0.187500                   5                       2  \n",
       "997   0.000000                   1                       1  \n",
       "998   0.541667                   2                       4  \n",
       "999   0.000000                   2                       1  \n",
       "1000  0.416667                   4                       5  \n",
       "\n",
       "[1001 rows x 21 columns]"
      ]
     },
     "execution_count": 246,
     "metadata": {},
     "output_type": "execute_result"
    }
   ],
   "source": [
    "df1"
   ]
  },
  {
   "cell_type": "code",
   "execution_count": 247,
   "id": "cf7aeeba",
   "metadata": {},
   "outputs": [],
   "source": [
    "from sklearn.feature_extraction.text import TfidfVectorizer"
   ]
  },
  {
   "cell_type": "code",
   "execution_count": 250,
   "id": "76a3f757",
   "metadata": {},
   "outputs": [],
   "source": [
    "df1[\"combined\"]=df1[\"question1\"]+\" \"+df1[\"question2\"]"
   ]
  },
  {
   "cell_type": "code",
   "execution_count": 251,
   "id": "233f0757",
   "metadata": {},
   "outputs": [],
   "source": [
    "tfidf=TfidfVectorizer()\n",
    "tfidf_matrix=tfidf.fit_transform(df1[\"combined\"])"
   ]
  },
  {
   "cell_type": "code",
   "execution_count": 252,
   "id": "355177ef",
   "metadata": {},
   "outputs": [],
   "source": [
    "df1.drop([\"question1\",\"question2\"],axis=1,inplace=True)"
   ]
  },
  {
   "cell_type": "code",
   "execution_count": 254,
   "id": "7f4ccbda",
   "metadata": {},
   "outputs": [],
   "source": [
    "df1=pd.concat([df1,pd.DataFrame(tfidf_matrix.toarray(),columns=tfidf.get_feature_names_out())],axis=1)"
   ]
  },
  {
   "cell_type": "code",
   "execution_count": 258,
   "id": "c9e20baa",
   "metadata": {},
   "outputs": [],
   "source": [
    "df1.drop(\"combined\",inplace=True,axis=1)"
   ]
  },
  {
   "cell_type": "code",
   "execution_count": 260,
   "id": "58495c88",
   "metadata": {},
   "outputs": [
    {
     "data": {
      "text/plain": [
       "(1001, 3115)"
      ]
     },
     "execution_count": 260,
     "metadata": {},
     "output_type": "execute_result"
    }
   ],
   "source": [
    "df1.shape"
   ]
  },
  {
   "cell_type": "code",
   "execution_count": 262,
   "id": "a25475f4",
   "metadata": {},
   "outputs": [
    {
     "data": {
      "text/html": [
       "<div>\n",
       "<style scoped>\n",
       "    .dataframe tbody tr th:only-of-type {\n",
       "        vertical-align: middle;\n",
       "    }\n",
       "\n",
       "    .dataframe tbody tr th {\n",
       "        vertical-align: top;\n",
       "    }\n",
       "\n",
       "    .dataframe thead th {\n",
       "        text-align: right;\n",
       "    }\n",
       "</style>\n",
       "<table border=\"1\" class=\"dataframe\">\n",
       "  <thead>\n",
       "    <tr style=\"text-align: right;\">\n",
       "      <th></th>\n",
       "      <th>id</th>\n",
       "      <th>qid1</th>\n",
       "      <th>qid2</th>\n",
       "      <th>is_duplicate</th>\n",
       "      <th>freq_qid1</th>\n",
       "      <th>freq_qid2</th>\n",
       "      <th>q1len</th>\n",
       "      <th>q2len</th>\n",
       "      <th>q1_n_words</th>\n",
       "      <th>q2_n_words</th>\n",
       "      <th>...</th>\n",
       "      <th>yogurt</th>\n",
       "      <th>yojana</th>\n",
       "      <th>young</th>\n",
       "      <th>younger</th>\n",
       "      <th>youtub</th>\n",
       "      <th>youv</th>\n",
       "      <th>z630</th>\n",
       "      <th>zealand</th>\n",
       "      <th>zero</th>\n",
       "      <th>zika</th>\n",
       "    </tr>\n",
       "  </thead>\n",
       "  <tbody>\n",
       "    <tr>\n",
       "      <th>0</th>\n",
       "      <td>0</td>\n",
       "      <td>1</td>\n",
       "      <td>2</td>\n",
       "      <td>0</td>\n",
       "      <td>1</td>\n",
       "      <td>1</td>\n",
       "      <td>66</td>\n",
       "      <td>57</td>\n",
       "      <td>14</td>\n",
       "      <td>12</td>\n",
       "      <td>...</td>\n",
       "      <td>0.0</td>\n",
       "      <td>0.0</td>\n",
       "      <td>0.0</td>\n",
       "      <td>0.0</td>\n",
       "      <td>0.0</td>\n",
       "      <td>0.0</td>\n",
       "      <td>0.0</td>\n",
       "      <td>0.0</td>\n",
       "      <td>0.0</td>\n",
       "      <td>0.0</td>\n",
       "    </tr>\n",
       "    <tr>\n",
       "      <th>1</th>\n",
       "      <td>1</td>\n",
       "      <td>3</td>\n",
       "      <td>4</td>\n",
       "      <td>0</td>\n",
       "      <td>1</td>\n",
       "      <td>1</td>\n",
       "      <td>51</td>\n",
       "      <td>88</td>\n",
       "      <td>8</td>\n",
       "      <td>13</td>\n",
       "      <td>...</td>\n",
       "      <td>0.0</td>\n",
       "      <td>0.0</td>\n",
       "      <td>0.0</td>\n",
       "      <td>0.0</td>\n",
       "      <td>0.0</td>\n",
       "      <td>0.0</td>\n",
       "      <td>0.0</td>\n",
       "      <td>0.0</td>\n",
       "      <td>0.0</td>\n",
       "      <td>0.0</td>\n",
       "    </tr>\n",
       "    <tr>\n",
       "      <th>2</th>\n",
       "      <td>2</td>\n",
       "      <td>5</td>\n",
       "      <td>6</td>\n",
       "      <td>0</td>\n",
       "      <td>1</td>\n",
       "      <td>1</td>\n",
       "      <td>73</td>\n",
       "      <td>59</td>\n",
       "      <td>14</td>\n",
       "      <td>10</td>\n",
       "      <td>...</td>\n",
       "      <td>0.0</td>\n",
       "      <td>0.0</td>\n",
       "      <td>0.0</td>\n",
       "      <td>0.0</td>\n",
       "      <td>0.0</td>\n",
       "      <td>0.0</td>\n",
       "      <td>0.0</td>\n",
       "      <td>0.0</td>\n",
       "      <td>0.0</td>\n",
       "      <td>0.0</td>\n",
       "    </tr>\n",
       "    <tr>\n",
       "      <th>3</th>\n",
       "      <td>3</td>\n",
       "      <td>7</td>\n",
       "      <td>8</td>\n",
       "      <td>0</td>\n",
       "      <td>1</td>\n",
       "      <td>1</td>\n",
       "      <td>50</td>\n",
       "      <td>65</td>\n",
       "      <td>11</td>\n",
       "      <td>9</td>\n",
       "      <td>...</td>\n",
       "      <td>0.0</td>\n",
       "      <td>0.0</td>\n",
       "      <td>0.0</td>\n",
       "      <td>0.0</td>\n",
       "      <td>0.0</td>\n",
       "      <td>0.0</td>\n",
       "      <td>0.0</td>\n",
       "      <td>0.0</td>\n",
       "      <td>0.0</td>\n",
       "      <td>0.0</td>\n",
       "    </tr>\n",
       "    <tr>\n",
       "      <th>4</th>\n",
       "      <td>4</td>\n",
       "      <td>9</td>\n",
       "      <td>10</td>\n",
       "      <td>0</td>\n",
       "      <td>1</td>\n",
       "      <td>1</td>\n",
       "      <td>76</td>\n",
       "      <td>39</td>\n",
       "      <td>13</td>\n",
       "      <td>7</td>\n",
       "      <td>...</td>\n",
       "      <td>0.0</td>\n",
       "      <td>0.0</td>\n",
       "      <td>0.0</td>\n",
       "      <td>0.0</td>\n",
       "      <td>0.0</td>\n",
       "      <td>0.0</td>\n",
       "      <td>0.0</td>\n",
       "      <td>0.0</td>\n",
       "      <td>0.0</td>\n",
       "      <td>0.0</td>\n",
       "    </tr>\n",
       "  </tbody>\n",
       "</table>\n",
       "<p>5 rows × 3115 columns</p>\n",
       "</div>"
      ],
      "text/plain": [
       "   id  qid1  qid2  is_duplicate  freq_qid1  freq_qid2  q1len  q2len  \\\n",
       "0   0     1     2             0          1          1     66     57   \n",
       "1   1     3     4             0          1          1     51     88   \n",
       "2   2     5     6             0          1          1     73     59   \n",
       "3   3     7     8             0          1          1     50     65   \n",
       "4   4     9    10             0          1          1     76     39   \n",
       "\n",
       "   q1_n_words  q2_n_words  ...  yogurt  yojana  young  younger  youtub  youv  \\\n",
       "0          14          12  ...     0.0     0.0    0.0      0.0     0.0   0.0   \n",
       "1           8          13  ...     0.0     0.0    0.0      0.0     0.0   0.0   \n",
       "2          14          10  ...     0.0     0.0    0.0      0.0     0.0   0.0   \n",
       "3          11           9  ...     0.0     0.0    0.0      0.0     0.0   0.0   \n",
       "4          13           7  ...     0.0     0.0    0.0      0.0     0.0   0.0   \n",
       "\n",
       "   z630  zealand  zero  zika  \n",
       "0   0.0      0.0   0.0   0.0  \n",
       "1   0.0      0.0   0.0   0.0  \n",
       "2   0.0      0.0   0.0   0.0  \n",
       "3   0.0      0.0   0.0   0.0  \n",
       "4   0.0      0.0   0.0   0.0  \n",
       "\n",
       "[5 rows x 3115 columns]"
      ]
     },
     "execution_count": 262,
     "metadata": {},
     "output_type": "execute_result"
    }
   ],
   "source": [
    "df1.head()"
   ]
  },
  {
   "cell_type": "markdown",
   "id": "b025b9d6",
   "metadata": {},
   "source": [
    "## Random Model"
   ]
  },
  {
   "cell_type": "code",
   "execution_count": 270,
   "id": "c326dce4",
   "metadata": {},
   "outputs": [],
   "source": [
    "from sklearn.model_selection import train_test_split"
   ]
  },
  {
   "cell_type": "code",
   "execution_count": 272,
   "id": "16bfaaf1",
   "metadata": {},
   "outputs": [],
   "source": [
    "Y=df1[\"is_duplicate\"]\n",
    "X=df1.drop(\"is_duplicate\",axis=1)"
   ]
  },
  {
   "cell_type": "code",
   "execution_count": 276,
   "id": "b43f8c6c",
   "metadata": {},
   "outputs": [],
   "source": [
    "x_train,x_test,y_train,y_test=train_test_split(X,Y,test_size=20,random_state=2)"
   ]
  },
  {
   "cell_type": "code",
   "execution_count": 299,
   "id": "1a6837d3",
   "metadata": {},
   "outputs": [],
   "source": [
    "predicted_y=np.zeros_like(y_test,dtype=float)"
   ]
  },
  {
   "cell_type": "code",
   "execution_count": 300,
   "id": "3e56295c",
   "metadata": {},
   "outputs": [
    {
     "data": {
      "text/plain": [
       "array([0., 0., 0., 0., 0., 0., 0., 0., 0., 0., 0., 0., 0., 0., 0., 0., 0.,\n",
       "       0., 0., 0.])"
      ]
     },
     "execution_count": 300,
     "metadata": {},
     "output_type": "execute_result"
    }
   ],
   "source": [
    "predicted_y"
   ]
  },
  {
   "cell_type": "code",
   "execution_count": 301,
   "id": "0bf086dd",
   "metadata": {},
   "outputs": [],
   "source": [
    "for i in range(len(y_test)):\n",
    "    random_=np.random.rand()\n",
    "    predicted_y[i]=random_"
   ]
  },
  {
   "cell_type": "code",
   "execution_count": 302,
   "id": "12fa35f3",
   "metadata": {},
   "outputs": [
    {
     "data": {
      "text/plain": [
       "(20,)"
      ]
     },
     "execution_count": 302,
     "metadata": {},
     "output_type": "execute_result"
    }
   ],
   "source": [
    "y_test.shape"
   ]
  },
  {
   "cell_type": "code",
   "execution_count": 303,
   "id": "7e9a598d",
   "metadata": {},
   "outputs": [
    {
     "data": {
      "text/plain": [
       "array([0.94170542, 0.34937811, 0.78884619, 0.56399569, 0.04661953,\n",
       "       0.1111416 , 0.66326407, 0.57613535, 0.21089925, 0.14410516,\n",
       "       0.53421902, 0.74757322, 0.48869068, 0.73886848, 0.35942392,\n",
       "       0.41892211, 0.98032892, 0.90177832, 0.47174398, 0.18749357])"
      ]
     },
     "execution_count": 303,
     "metadata": {},
     "output_type": "execute_result"
    }
   ],
   "source": [
    "predicted_y"
   ]
  },
  {
   "cell_type": "code",
   "execution_count": 305,
   "id": "c05b744d",
   "metadata": {},
   "outputs": [],
   "source": [
    "from sklearn.metrics import log_loss"
   ]
  },
  {
   "cell_type": "code",
   "execution_count": 307,
   "id": "bbdcaccc",
   "metadata": {},
   "outputs": [
    {
     "data": {
      "text/plain": [
       "1.1333129080041897"
      ]
     },
     "execution_count": 307,
     "metadata": {},
     "output_type": "execute_result"
    }
   ],
   "source": [
    "log_loss(y_test,predicted_y) ## randomly prediced dumb model has a log loss of 1.133"
   ]
  },
  {
   "cell_type": "markdown",
   "id": "d172fd3c",
   "metadata": {},
   "source": [
    "## Logistic Regression"
   ]
  },
  {
   "cell_type": "code",
   "execution_count": 311,
   "id": "9e84eb75",
   "metadata": {},
   "outputs": [],
   "source": [
    "alpha=[10**x for x in range(-5,2)]\n",
    "from sklearn.linear_model import SGDClassifier\n",
    "from sklearn.calibration import CalibratedClassifierCV"
   ]
  },
  {
   "cell_type": "code",
   "execution_count": 315,
   "id": "0d554d95",
   "metadata": {},
   "outputs": [
    {
     "name": "stdout",
     "output_type": "stream",
     "text": [
      "For alpha: 1e-05 the log loss is 0.6023498807094781\n",
      "For alpha: 0.0001 the log loss is 0.6023498807094781\n",
      "For alpha: 0.001 the log loss is 0.5656787752242116\n",
      "For alpha: 0.01 the log loss is 0.5587432513242863\n",
      "For alpha: 0.1 the log loss is 0.5696501754530118\n",
      "For alpha: 1 the log loss is 0.5436068929820073\n",
      "For alpha: 10 the log loss is 0.5676659521584246\n"
     ]
    }
   ],
   "source": [
    "for i in alpha:\n",
    "    clf=SGDClassifier(alpha=i,penalty=\"l2\",loss=\"log_loss\",random_state=42)\n",
    "    clf.fit(x_train,y_train)\n",
    "    sig_cali=CalibratedClassifierCV(clf,method=\"sigmoid\")\n",
    "    sig_cali.fit(x_train,y_train)\n",
    "    predict_=sig_cali.predict_proba(x_test)\n",
    "    logloss=log_loss(y_test,predict_)\n",
    "    print(\"For alpha:\",i,\"the log loss is\",logloss)"
   ]
  },
  {
   "cell_type": "markdown",
   "id": "26529647",
   "metadata": {},
   "source": [
    "## Lr SVM"
   ]
  },
  {
   "cell_type": "code",
   "execution_count": 316,
   "id": "48b9cafc",
   "metadata": {},
   "outputs": [
    {
     "name": "stdout",
     "output_type": "stream",
     "text": [
      "For alpha: 1e-05 the log loss is 0.6023498807094781\n",
      "For alpha: 0.0001 the log loss is 0.6023498807094781\n",
      "For alpha: 0.001 the log loss is 0.5490514753475597\n",
      "For alpha: 0.01 the log loss is 0.5739081910723011\n",
      "For alpha: 0.1 the log loss is 0.563375975836095\n",
      "For alpha: 1 the log loss is 0.5464515926192326\n",
      "For alpha: 10 the log loss is 0.5732150692054243\n"
     ]
    }
   ],
   "source": [
    "for i in alpha:\n",
    "    clf=SGDClassifier(alpha=i,penalty=\"l2\",loss=\"hinge\",random_state=42)\n",
    "    clf.fit(x_train,y_train)\n",
    "    sig_cali=CalibratedClassifierCV(clf,method=\"sigmoid\")\n",
    "    sig_cali.fit(x_train,y_train)\n",
    "    predict_=sig_cali.predict_proba(x_test)\n",
    "    logloss=log_loss(y_test,predict_)\n",
    "    print(\"For alpha:\",i,\"the log loss is\",logloss)"
   ]
  },
  {
   "cell_type": "code",
   "execution_count": 317,
   "id": "3331b5c5",
   "metadata": {},
   "outputs": [],
   "source": [
    "clf=SGDClassifier(alpha=1,penalty=\"l2\",loss=\"hinge\",random_state=42)\n",
    "clf.fit(x_train,y_train)\n",
    "sig_cali=CalibratedClassifierCV(clf,method=\"sigmoid\")\n",
    "sig_cali.fit(x_train,y_train)\n",
    "predict_=sig_cali.predict_proba(x_train)\n",
    "logloss=log_loss(y_train,predict_)"
   ]
  },
  {
   "cell_type": "code",
   "execution_count": 319,
   "id": "b6f8b0b5",
   "metadata": {},
   "outputs": [
    {
     "data": {
      "text/plain": [
       "0.6260385993947588"
      ]
     },
     "execution_count": 319,
     "metadata": {},
     "output_type": "execute_result"
    }
   ],
   "source": [
    "logloss # it is having more bias"
   ]
  },
  {
   "cell_type": "code",
   "execution_count": 1,
   "id": "3ccf6947",
   "metadata": {},
   "outputs": [],
   "source": [
    "# we can try xg boost with grid search but iam not doing it because of computational issues"
   ]
  },
  {
   "cell_type": "code",
   "execution_count": null,
   "id": "fa444206",
   "metadata": {},
   "outputs": [],
   "source": []
  }
 ],
 "metadata": {
  "kernelspec": {
   "display_name": "Python 3 (ipykernel)",
   "language": "python",
   "name": "python3"
  },
  "language_info": {
   "codemirror_mode": {
    "name": "ipython",
    "version": 3
   },
   "file_extension": ".py",
   "mimetype": "text/x-python",
   "name": "python",
   "nbconvert_exporter": "python",
   "pygments_lexer": "ipython3",
   "version": "3.11.4"
  }
 },
 "nbformat": 4,
 "nbformat_minor": 5
}
